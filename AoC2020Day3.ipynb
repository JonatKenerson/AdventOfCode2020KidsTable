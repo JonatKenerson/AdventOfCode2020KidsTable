{
  "nbformat": 4,
  "nbformat_minor": 0,
  "metadata": {
    "colab": {
      "name": "AoC2020Day3.ipynb",
      "provenance": [],
      "mount_file_id": "1SJ6Pm_BPN6huxgHgfgBtaYff2U2Wn5SU",
      "authorship_tag": "ABX9TyPYcvaftsuUVJeBAhsKVDqn",
      "include_colab_link": true
    },
    "kernelspec": {
      "name": "python3",
      "display_name": "Python 3"
    },
    "language_info": {
      "name": "python"
    }
  },
  "cells": [
    {
      "cell_type": "markdown",
      "metadata": {
        "id": "view-in-github",
        "colab_type": "text"
      },
      "source": [
        "<a href=\"https://colab.research.google.com/github/JonatKenerson/AdventOfCode2020KidsTable/blob/main/AoC2020Day3.ipynb\" target=\"_parent\"><img src=\"https://colab.research.google.com/assets/colab-badge.svg\" alt=\"Open In Colab\"/></a>"
      ]
    },
    {
      "cell_type": "code",
      "metadata": {
        "id": "avRc-Z_FCbva",
        "colab": {
          "base_uri": "https://localhost:8080/"
        },
        "outputId": "acaf7c7c-3d36-4645-d752-3433e3738824"
      },
      "source": [
        "with open('/content/drive/MyDrive/Colab Notebooks/Input Files/Day3Input.txt') as f:\n",
        "  input = f.read()\n",
        "\n",
        "final_map = input.split(\"\\n\")\n",
        "\n",
        "#Tree detector. I couldn't figure out how to repeat each string to extend\n",
        "#to the right, so I counted how many characters were in each line (31) and used\n",
        "#modulo to represent how position 32 == position 0, position 33 == position 1, etc\n",
        "\n",
        "print(len(final_map[0]))\n",
        "\n",
        "def is_there_a_tree_there(coord_x, coord_y):\n",
        "  extended_x = coord_x % 31\n",
        "  return final_map[coord_y][extended_x] == \"#\"\n",
        "\n",
        "#checking if the tree detector works. it does!\n",
        "print(is_there_a_tree_there(0, 1))\n",
        "\n",
        "#Function to see how many trees we hit on the way down\n",
        "def tree_count_on_trip(steps_right, steps_down):\n",
        "  right_coordinate = 0\n",
        "  down_coordinate = 0\n",
        "  tree_count = 0\n",
        "\n",
        "#I wanted to try a while loop this time instead of a for loop like I've done for\n",
        "#everything else so far\n",
        "\n",
        "  while down_coordinate < len(final_map):\n",
        "    if is_there_a_tree_there(right_coordinate, down_coordinate):\n",
        "      tree_count += 1\n",
        "    right_coordinate += steps_right\n",
        "    down_coordinate += steps_down\n",
        "  return tree_count\n",
        "\n",
        "print(\"Part 1 answer:\"tree_count_on_trip(3, 1))\n",
        "\n",
        "##Part 2. I basically just use what I made with different variables right?\n",
        "\n",
        "slope_1 = tree_count_on_trip(1,1)\n",
        "slope_2 = tree_count_on_trip(3,1)\n",
        "slope_3 = tree_count_on_trip(5,1)\n",
        "slope_4 = tree_count_on_trip(7,1)\n",
        "slope_5 = tree_count_on_trip(1,2)\n",
        "\n",
        "part_2_answer = slope_1 * slope_2 * slope_3 * slope_4 * slope_5\n",
        "print(\"Part 2 answer:\" + str(part_2_answer))"
      ],
      "execution_count": 15,
      "outputs": [
        {
          "output_type": "stream",
          "name": "stdout",
          "text": [
            "31\n",
            "True\n",
            "156\n",
            "Part 2 answer:3521829480\n"
          ]
        }
      ]
    },
    {
      "cell_type": "code",
      "metadata": {
        "id": "uxmGWJzTXpq3"
      },
      "source": [
        ""
      ],
      "execution_count": null,
      "outputs": []
    }
  ]
}