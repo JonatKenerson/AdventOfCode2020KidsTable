{
  "nbformat": 4,
  "nbformat_minor": 0,
  "metadata": {
    "colab": {
      "name": "AoC2020Day5.ipynb",
      "provenance": [],
      "mount_file_id": "1hq7uV8mO8nKf6L4Yqp4okcegK4Q51Bka",
      "authorship_tag": "ABX9TyPxSKOWHNQ3pWh0fAp0lYh8",
      "include_colab_link": true
    },
    "kernelspec": {
      "name": "python3",
      "display_name": "Python 3"
    },
    "language_info": {
      "name": "python"
    }
  },
  "cells": [
    {
      "cell_type": "markdown",
      "metadata": {
        "id": "view-in-github",
        "colab_type": "text"
      },
      "source": [
        "<a href=\"https://colab.research.google.com/github/JonatKenerson/AdventOfCode2020KidsTable/blob/main/AoC2020Day5.ipynb\" target=\"_parent\"><img src=\"https://colab.research.google.com/assets/colab-badge.svg\" alt=\"Open In Colab\"/></a>"
      ]
    },
    {
      "cell_type": "code",
      "metadata": {
        "colab": {
          "base_uri": "https://localhost:8080/"
        },
        "id": "NaVon5mzROba",
        "outputId": "03a13713-2449-4ed9-be24-d73fec531503"
      },
      "source": [
        "with open('/content/drive/MyDrive/Colab Notebooks/Input Files/Day5Input.txt') as f:\n",
        "  raw_input = f.read()\n",
        "  input = raw_input.split(\"\\n\")\n",
        "\n",
        "#Turn the input into binary\n",
        "\n",
        "def convert_FB_to_01(string):\n",
        "  translation_table = string.maketrans(\"FB\", \"01\")\n",
        "  return string.translate(translation_table)\n",
        "\n",
        "def convert_LR_to_01(string):\n",
        "  translation_table = string.maketrans(\"LR\", \"01\")\n",
        "  return string.translate(translation_table)\n",
        "\n",
        "#From what I read, it seems like I can find what number is represented by \n",
        "#the binary, instead of dividing like the problem describes, so that's what these\n",
        "#functions do\n",
        "\n",
        "binary_rows = [convert_FB_to_01(line[:7]) for line in input]\n",
        "\n",
        "decimal_rows = [int(binary_row, 2) for binary_row in binary_rows]\n",
        "\n",
        "binary_columns = [convert_LR_to_01(line[-3:]) for line in input]\n",
        "\n",
        "decimal_columns = [int(binary_column, 2) for binary_column in binary_columns]\n",
        "\n",
        "#Turning these into seat ID's (row number * 8 + seat number)\n",
        "\n",
        "#Using zip to make a list of tuples\n",
        "decimal_rows_and_columns = zip(decimal_rows, decimal_columns)\n",
        "seat_id = [item[0] * 8 + item[1] for item in decimal_rows_and_columns]\n",
        "\n",
        "print(\"Part 1 answer: \" + str(max(seat_id)))\n",
        "\n",
        "#Part 2: Find my seat. It's the only seat missing from the list\n",
        "#Going to start by sorting them in ascending order, then loop through to find gap\n",
        "\n",
        "sorted_seats = sorted(seat_id)\n",
        "\n",
        "last_seat_index = len(sorted_seats) - 1\n",
        "current_index = 0\n",
        "my_seat_id = None\n",
        "\n",
        "#This checks to see if the ID after the current ID is 2 away from current ID\n",
        "#If so, that's the gap and that's our seat\n",
        "\n",
        "while current_index < last_seat_index - 1:\n",
        "  if sorted_seats[current_index + 1] - sorted_seats[current_index] == 2:\n",
        "    my_seat_id = sorted_seats[current_index] + 1\n",
        "    break\n",
        "\n",
        "  current_index += 1\n",
        "\n",
        "if my_seat_id:\n",
        "  print(f\"My seat is {my_seat_id}.\")\n",
        "else:\n",
        "  print(\"Something's not right\")"
      ],
      "execution_count": 16,
      "outputs": [
        {
          "output_type": "stream",
          "name": "stdout",
          "text": [
            "Part 1 answer: 835\n",
            "My seat is 649.\n"
          ]
        }
      ]
    }
  ]
}